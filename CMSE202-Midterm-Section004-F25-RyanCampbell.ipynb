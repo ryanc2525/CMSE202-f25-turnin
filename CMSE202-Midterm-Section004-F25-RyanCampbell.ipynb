{
 "cells": [
  {
   "cell_type": "markdown",
   "id": "3def3efc",
   "metadata": {
    "tags": []
   },
   "source": [
    "# CMSE 202 Midterm (Section 004 - Fall 2025)\n",
    "\n",
    "The goal of this midterm is to give you the opportunity to test out some of the skills that you've developed thus far this semester. In particular, you'll practice setting up a GitHub repository, committing and pushing repository changes, downloading data with command line tools, performing some data analysis, possibly using a new Python package, and writing a python class. You should find that you have all of the skills necessary to complete this exam with even just eight weeks of CMSE 202 under your belt!\n",
    "\n",
    "You are encouraged to look through the entire exam before you get started so that you can appropriately budget your time and understand the broad goals of the exam. Once you've read through it, try doing Parts 0 and 1 first so that you have your repository set up and you download all necessary data files as they will be necessary to complete the assigned tasks. Let your instructor know right away if you have problems downloading the data!\n",
    "\n",
    "The exam is set up so that even if you get stuck on one part there are opportunities to get points on the other parts, so consider jumping ahead if you feel like you aren't making progress and then come back later if you have time. If you have any questions during the exam, you may ask the instructor, the TA, or the LA privately: simply raise your hand and one of us will come over to you. \n",
    "\n",
    "\n",
    "**Important note about using online resources**: This exam is \"open internet\". That means that you can look up documentation, google how to accomplish certain Python tasks, etc. Being able to effectively use the internet for computational modeling and data science is a very important skill, so we want to make sure you have the opportunity to exercise that skill. **However: The use of any person-to-person communication software or generative AI tools is absolutely not acceptable.** If you are seen accessing your email, using a collaborative cloud storage or document software (e.g. Slack, Google Documents), or generative AIs (e.g. ChatGPT), you will be at risk for receiving a zero on the exam. Google often does give an AI summary regardless of search, so to avoid misusing AI on the exam you should not copy-paste any of the questions from the exam directly into Google. \n",
    "\n",
    "**Keep your eyes on your screen!** Unfortunately, there isn't enough space in the room for everyone to sit at their own table so please keep your eyes on your own screen. This exam is designed to give *you* the opportunity to show the instructor what you can do and you should hold yourself accountable for maintaining a high level of academic integrity. If any of the instructors observe suspicious behavior, you will, again, risk receiving a zero.\n",
    "\n",
    "**Github Issues:** If at any point you encounter an issue with Github, such as a merge conflict, rather than spending your limited exam time trying to fix it, just write the code you would use to achieve the task in the notebook and move on. If you note the issue you encountered and have correct code in your notebook, you can still receive full credit. "
   ]
  },
  {
   "cell_type": "markdown",
   "id": "6b0b3d3a",
   "metadata": {},
   "source": [
    "---\n",
    "## Part 0: Academic integrity statement\n",
    "\n",
    "Read the following statement and edit the markdown text to put your name in the statement. This is your commitment to doing your own authentic work on this exam."
   ]
  },
  {
   "cell_type": "markdown",
   "id": "8e3dc4df",
   "metadata": {
    "pycharm": {
     "name": "#%% md\n"
    }
   },
   "source": [
    "> I, **Ryan Campbell**, affirm that this exam represents my own authetic work, without the use of any unpermitted aids or generative AIs or person-to-person communication. I understand that this exam an an opportunity to showcase my own progress in developing and improving my computational skills and have done my best to demonstrate those skills."
   ]
  },
  {
   "cell_type": "markdown",
   "id": "435ee396",
   "metadata": {
    "tags": []
   },
   "source": [
    "## Part 1: Add to your Git repository to track your progress on your exam\n",
    "\n",
    "Before you get too far along in the exam, you're going to add it to the `cmse202-f25-turnin` repository you created in class (or in Homework 1) so that you can track your progress on the exam and preserve the final version that you turn in. In order to do this you need to\n",
    "\n",
    "1. Navigate to your `cmse202-f25-turnin` repository and create a new directory called `midterm`.\n",
    "2. Move this notebook into that **new directory** in your repository, then **add it and commit it to your repository**.\n",
    "3. Finally, to test that everything is working, \"git push\" the file so that it ends up in your GitHub repository.\n",
    "\n",
    "**Important**: Double check you've added your Professor and your TA as collaborators to your \"turnin\" respository (you should have done this in the previous homework assignment).\n",
    "\n",
    "**Important**: Make sure that the version of this notebook that you are working on is the same one that you just added to your repository! If you are working on a different copy of the noteobok, **none of your changes will be tracked**!\n",
    "\n",
    "The file should now show up on your GitHub account in the `cmse202-f25-turnin` repository inside the `midterm` directory you just created.  Periodically, **you'll be asked to commit your changes to the repository and push them to the remote GitHub location**. It can be good to get into a habit of committing your changes any time you make a significant modification."
   ]
  },
  {
   "cell_type": "markdown",
   "id": "290bab71",
   "metadata": {},
   "source": [
    "&#9989; **Question 1.1 Put all the Git commands you used to add your midterm folder and file to your GitHub repository (2 points)**:"
   ]
  },
  {
   "cell_type": "markdown",
   "id": "1dec969d-9114-4eee-80bb-157cf2f8087c",
   "metadata": {},
   "source": [
    "```bash\n",
    "mv ~/CMSE202-Midterm-Section004-F25-RyanCampbell.ipynb ~/CMSE202-f25-turnin/\n",
    "ls ~/CMSE202-f25-turnin\n",
    "cd ~/CMSE202-f25-turnin\n",
    "git status\n",
    "git add CMSE202-Midterm-Section004-F25-RyanCampbell.ipynb\n",
    "git commit -m \"adding midterm\"\n",
    "git push\n",
    "```"
   ]
  },
  {
   "cell_type": "markdown",
   "id": "903ce347",
   "metadata": {},
   "source": [
    "&#9989; **Question 1.2 Put the code the instructor will need to clone your repository here (1 point)**:\n"
   ]
  },
  {
   "cell_type": "markdown",
   "id": "c6e6e926-1e23-4b06-8e8f-dacbce047020",
   "metadata": {},
   "source": [
    "```bash\n",
    "git clone https://github.com/ryanc2525/CMSE202-f25-turnin.git\n",
    "```"
   ]
  },
  {
   "cell_type": "markdown",
   "id": "8239c731",
   "metadata": {},
   "source": [
    "&#9989; **Question 1.3 Describe in words what a branch is and what branches are used for (2 points)**:\n"
   ]
  },
  {
   "cell_type": "markdown",
   "id": "a6cd427e-fcbc-4e41-b32c-33ae3dd42543",
   "metadata": {},
   "source": [
    "a branch is an independent line of development within a repository, and they are used to create an independent state to fix bugs, test new features, or experimenting with a file without changing the main file."
   ]
  },
  {
   "cell_type": "markdown",
   "id": "39b5c084",
   "metadata": {},
   "source": [
    "&#9989; **Question 1.4 (2 points)**: After completing each of Part 2, Part 3, Part 4, and Part 5 below, save your notebook, commit the changes to your Git repository using a descriptive commit message, and push the changes to GitHub. Note that there are large &#128721; **STOP** signs reminding you to do this after each part. **Note:** If Github issues are encountered, just write the code you would use to commit and push changes under each of the stop signs. "
   ]
  },
  {
   "cell_type": "markdown",
   "id": "2a33af2b",
   "metadata": {},
   "source": [
    "## Part 2: Downloading and analyzing unfamiliar data\n",
    "\n"
   ]
  },
  {
   "cell_type": "markdown",
   "id": "fdbaac8f",
   "metadata": {},
   "source": [
    "&#9989; **Question 2.1  Use the `curl` command to download the Iris dataset at**\n",
    "\n",
    "`https://raw.githubusercontent.com/msu-cmse-courses/cmse202-supplemental-data/refs/heads/main/data/iris.data`\n",
    "\n",
    "**to your working directory. Include the code you used to download the dataset below. (2 points)**:\n"
   ]
  },
  {
   "cell_type": "code",
   "execution_count": 2,
   "id": "acd32e74",
   "metadata": {},
   "outputs": [
    {
     "name": "stdout",
     "output_type": "stream",
     "text": [
      "  % Total    % Received % Xferd  Average Speed   Time    Time     Time  Current\n",
      "                                 Dload  Upload   Total   Spent    Left  Speed\n",
      "100  4551  100  4551    0     0  90354      0 --:--:-- --:--:-- --:--:-- 91020\n"
     ]
    }
   ],
   "source": [
    "# Your code here.\n",
    "!curl -O https://raw.githubusercontent.com/msu-cmse-courses/cmse202-supplemental-data/refs/heads/main/data/iris.data"
   ]
  },
  {
   "cell_type": "markdown",
   "id": "5c1ff7ba",
   "metadata": {},
   "source": [
    "&#9989; **Question 2.2 Read in the dataset as a Pandas `DataFrame` and then display the first 10 rows. The dataset does not have a header, so be sure to set the header to be `None`. (2 points)**: \n",
    "\n"
   ]
  },
  {
   "cell_type": "code",
   "execution_count": 48,
   "id": "0eabef99",
   "metadata": {},
   "outputs": [
    {
     "name": "stderr",
     "output_type": "stream",
     "text": [
      "/var/folders/q7/bpr_nhqj7vqcptgby42m2btr0000gn/T/ipykernel_70825/3246100339.py:3: FutureWarning: The 'delim_whitespace' keyword in pd.read_csv is deprecated and will be removed in a future version. Use ``sep='\\s+'`` instead\n",
      "  df = pd.read_csv(\"iris.data\", delim_whitespace=True, header=None)\n"
     ]
    },
    {
     "data": {
      "text/html": [
       "<div>\n",
       "<style scoped>\n",
       "    .dataframe tbody tr th:only-of-type {\n",
       "        vertical-align: middle;\n",
       "    }\n",
       "\n",
       "    .dataframe tbody tr th {\n",
       "        vertical-align: top;\n",
       "    }\n",
       "\n",
       "    .dataframe thead th {\n",
       "        text-align: right;\n",
       "    }\n",
       "</style>\n",
       "<table border=\"1\" class=\"dataframe\">\n",
       "  <thead>\n",
       "    <tr style=\"text-align: right;\">\n",
       "      <th></th>\n",
       "      <th>0</th>\n",
       "      <th>1</th>\n",
       "      <th>2</th>\n",
       "      <th>3</th>\n",
       "      <th>4</th>\n",
       "    </tr>\n",
       "  </thead>\n",
       "  <tbody>\n",
       "    <tr>\n",
       "      <th>0</th>\n",
       "      <td>5.1</td>\n",
       "      <td>3.5</td>\n",
       "      <td>1.4</td>\n",
       "      <td>0.2</td>\n",
       "      <td>Iris-setosa</td>\n",
       "    </tr>\n",
       "    <tr>\n",
       "      <th>1</th>\n",
       "      <td>4.9</td>\n",
       "      <td>3.0</td>\n",
       "      <td>1.4</td>\n",
       "      <td>0.2</td>\n",
       "      <td>Iris-setosa</td>\n",
       "    </tr>\n",
       "    <tr>\n",
       "      <th>2</th>\n",
       "      <td>4.7</td>\n",
       "      <td>3.2</td>\n",
       "      <td>1.3</td>\n",
       "      <td>0.2</td>\n",
       "      <td>Iris-setosa</td>\n",
       "    </tr>\n",
       "    <tr>\n",
       "      <th>3</th>\n",
       "      <td>4.6</td>\n",
       "      <td>3.1</td>\n",
       "      <td>1.5</td>\n",
       "      <td>0.2</td>\n",
       "      <td>Iris-setosa</td>\n",
       "    </tr>\n",
       "    <tr>\n",
       "      <th>4</th>\n",
       "      <td>5.0</td>\n",
       "      <td>3.6</td>\n",
       "      <td>1.4</td>\n",
       "      <td>0.2</td>\n",
       "      <td>Iris-setosa</td>\n",
       "    </tr>\n",
       "    <tr>\n",
       "      <th>5</th>\n",
       "      <td>5.4</td>\n",
       "      <td>3.9</td>\n",
       "      <td>1.7</td>\n",
       "      <td>0.4</td>\n",
       "      <td>Iris-setosa</td>\n",
       "    </tr>\n",
       "    <tr>\n",
       "      <th>6</th>\n",
       "      <td>4.6</td>\n",
       "      <td>3.4</td>\n",
       "      <td>1.4</td>\n",
       "      <td>0.3</td>\n",
       "      <td>Iris-setosa</td>\n",
       "    </tr>\n",
       "    <tr>\n",
       "      <th>7</th>\n",
       "      <td>5.0</td>\n",
       "      <td>3.4</td>\n",
       "      <td>1.5</td>\n",
       "      <td>0.2</td>\n",
       "      <td>Iris-setosa</td>\n",
       "    </tr>\n",
       "    <tr>\n",
       "      <th>8</th>\n",
       "      <td>4.4</td>\n",
       "      <td>2.9</td>\n",
       "      <td>1.4</td>\n",
       "      <td>0.2</td>\n",
       "      <td>Iris-setosa</td>\n",
       "    </tr>\n",
       "    <tr>\n",
       "      <th>9</th>\n",
       "      <td>4.9</td>\n",
       "      <td>3.1</td>\n",
       "      <td>1.5</td>\n",
       "      <td>0.1</td>\n",
       "      <td>Iris-setosa</td>\n",
       "    </tr>\n",
       "  </tbody>\n",
       "</table>\n",
       "</div>"
      ],
      "text/plain": [
       "     0    1    2    3            4\n",
       "0  5.1  3.5  1.4  0.2  Iris-setosa\n",
       "1  4.9  3.0  1.4  0.2  Iris-setosa\n",
       "2  4.7  3.2  1.3  0.2  Iris-setosa\n",
       "3  4.6  3.1  1.5  0.2  Iris-setosa\n",
       "4  5.0  3.6  1.4  0.2  Iris-setosa\n",
       "5  5.4  3.9  1.7  0.4  Iris-setosa\n",
       "6  4.6  3.4  1.4  0.3  Iris-setosa\n",
       "7  5.0  3.4  1.5  0.2  Iris-setosa\n",
       "8  4.4  2.9  1.4  0.2  Iris-setosa\n",
       "9  4.9  3.1  1.5  0.1  Iris-setosa"
      ]
     },
     "execution_count": 48,
     "metadata": {},
     "output_type": "execute_result"
    }
   ],
   "source": [
    "# Your code here.\n",
    "import pandas as pd\n",
    "df = pd.read_csv(\"iris.data\", delim_whitespace=True, header=None)\n",
    "df.head(10)"
   ]
  },
  {
   "cell_type": "markdown",
   "id": "d86e79ad",
   "metadata": {},
   "source": [
    "&#9989; **Question 2.3 The columns of this dataset are Sepal Length, Sepal Width, Petal Length and Petal Width, and Iris Type. Add a header (column names with these names as strings) to the dataset to make it more descriptive. Then, compute and display the average, min, and max values in each numeric column, and display them. (2 points)**: \n",
    "\n"
   ]
  },
  {
   "cell_type": "code",
   "execution_count": 50,
   "id": "7fa9bffb",
   "metadata": {},
   "outputs": [
    {
     "data": {
      "text/html": [
       "<div>\n",
       "<style scoped>\n",
       "    .dataframe tbody tr th:only-of-type {\n",
       "        vertical-align: middle;\n",
       "    }\n",
       "\n",
       "    .dataframe tbody tr th {\n",
       "        vertical-align: top;\n",
       "    }\n",
       "\n",
       "    .dataframe thead th {\n",
       "        text-align: right;\n",
       "    }\n",
       "</style>\n",
       "<table border=\"1\" class=\"dataframe\">\n",
       "  <thead>\n",
       "    <tr style=\"text-align: right;\">\n",
       "      <th></th>\n",
       "      <th>sepal_length</th>\n",
       "      <th>sepal_width</th>\n",
       "      <th>petal_length</th>\n",
       "      <th>petal_width</th>\n",
       "    </tr>\n",
       "  </thead>\n",
       "  <tbody>\n",
       "    <tr>\n",
       "      <th>count</th>\n",
       "      <td>150.000000</td>\n",
       "      <td>150.000000</td>\n",
       "      <td>150.000000</td>\n",
       "      <td>150.000000</td>\n",
       "    </tr>\n",
       "    <tr>\n",
       "      <th>mean</th>\n",
       "      <td>5.843333</td>\n",
       "      <td>3.054000</td>\n",
       "      <td>3.758667</td>\n",
       "      <td>1.198667</td>\n",
       "    </tr>\n",
       "    <tr>\n",
       "      <th>std</th>\n",
       "      <td>0.828066</td>\n",
       "      <td>0.433594</td>\n",
       "      <td>1.764420</td>\n",
       "      <td>0.763161</td>\n",
       "    </tr>\n",
       "    <tr>\n",
       "      <th>min</th>\n",
       "      <td>4.300000</td>\n",
       "      <td>2.000000</td>\n",
       "      <td>1.000000</td>\n",
       "      <td>0.100000</td>\n",
       "    </tr>\n",
       "    <tr>\n",
       "      <th>25%</th>\n",
       "      <td>5.100000</td>\n",
       "      <td>2.800000</td>\n",
       "      <td>1.600000</td>\n",
       "      <td>0.300000</td>\n",
       "    </tr>\n",
       "    <tr>\n",
       "      <th>50%</th>\n",
       "      <td>5.800000</td>\n",
       "      <td>3.000000</td>\n",
       "      <td>4.350000</td>\n",
       "      <td>1.300000</td>\n",
       "    </tr>\n",
       "    <tr>\n",
       "      <th>75%</th>\n",
       "      <td>6.400000</td>\n",
       "      <td>3.300000</td>\n",
       "      <td>5.100000</td>\n",
       "      <td>1.800000</td>\n",
       "    </tr>\n",
       "    <tr>\n",
       "      <th>max</th>\n",
       "      <td>7.900000</td>\n",
       "      <td>4.400000</td>\n",
       "      <td>6.900000</td>\n",
       "      <td>2.500000</td>\n",
       "    </tr>\n",
       "  </tbody>\n",
       "</table>\n",
       "</div>"
      ],
      "text/plain": [
       "       sepal_length  sepal_width  petal_length  petal_width\n",
       "count    150.000000   150.000000    150.000000   150.000000\n",
       "mean       5.843333     3.054000      3.758667     1.198667\n",
       "std        0.828066     0.433594      1.764420     0.763161\n",
       "min        4.300000     2.000000      1.000000     0.100000\n",
       "25%        5.100000     2.800000      1.600000     0.300000\n",
       "50%        5.800000     3.000000      4.350000     1.300000\n",
       "75%        6.400000     3.300000      5.100000     1.800000\n",
       "max        7.900000     4.400000      6.900000     2.500000"
      ]
     },
     "execution_count": 50,
     "metadata": {},
     "output_type": "execute_result"
    }
   ],
   "source": [
    "# Your code here.\n",
    "df.columns = [\"sepal_length\", \"sepal_width\", \"petal_length\", \"petal_width\", \"iris_type\"]\n",
    "df.describe()"
   ]
  },
  {
   "cell_type": "markdown",
   "id": "2e90d1bd",
   "metadata": {},
   "source": [
    "&#9989; **Question 2.4 Create a filtered `DataFrame` consisting only of \"Iris-setosa\" flowers with sepal length at least 5.3 (2 points)**: "
   ]
  },
  {
   "cell_type": "code",
   "execution_count": 60,
   "id": "b777a6af",
   "metadata": {},
   "outputs": [],
   "source": [
    "# Your code here.\n",
    "setosa_filtered = df[(df[\"iris_type\"] == \"Iris-setosa\") & (df[\"sepal_length\"] >= 5.3)]"
   ]
  },
  {
   "cell_type": "markdown",
   "id": "42fe8ccb",
   "metadata": {},
   "source": [
    "&#9989; **Question 2.5 Using the filtered `DataFrame`, make histograms of petal lengths and petal widths (2 points)**:\n"
   ]
  },
  {
   "cell_type": "code",
   "execution_count": 71,
   "id": "97b35785",
   "metadata": {},
   "outputs": [
    {
     "data": {
      "image/png": "[encoded data removed]",
      "text/plain": [
       "<Figure size 1000x400 with 2 Axes>"
      ]
     },
     "metadata": {},
     "output_type": "display_data"
    }
   ],
   "source": [
    "# Your code here.\n",
    "import matplotlib.pyplot as plt\n",
    "plt.figure(figsize=(10, 4))\n",
    "plt.subplot(1, 2, 1)\n",
    "plt.hist(setosa_filtered[\"petal_length\"], color='skyblue')\n",
    "plt.title(\"Petal Length\")\n",
    "\n",
    "plt.subplot(1, 2, 2)\n",
    "plt.hist(setosa_filtered[\"petal_width\"], color='lightgreen')\n",
    "plt.title(\"Petal Width\")\n",
    "\n",
    "plt.show()"
   ]
  },
  {
   "cell_type": "markdown",
   "id": "9732c055",
   "metadata": {},
   "source": [
    "&#9989; **Question 2.6 How do the most frequent petal length and petal width in the filtered dataset compare to the average values in the full dataset? (2 points)**: \n"
   ]
  },
  {
   "cell_type": "markdown",
   "id": "c43c48a8-01e6-4650-8ac6-cc5905703484",
   "metadata": {},
   "source": [
    "The most frequent petal length and width are 1.5 and 0.2 respectively, but the average values for length and width are 3.75 and 1.19\n",
    "\n"
   ]
  },
  {
   "cell_type": "markdown",
   "id": "c7fb929b",
   "metadata": {
    "jp-MarkdownHeadingCollapsed": true,
    "tags": []
   },
   "source": [
    "---\n",
    "### &#128721; STOP (1 point)\n",
    "**Pause to commit your changes to your Git repository!**\n",
    "\n",
    "Take a moment to save your notebook, commit  and push the changes to your Git repository.\n",
    "\n",
    "---"
   ]
  },
  {
   "cell_type": "markdown",
   "id": "73b28e5a",
   "metadata": {
    "tags": []
   },
   "source": [
    "## Part 3: Working with a new Python package\n",
    "\n",
    "In this section you will be exploring the [urllib3](https://pypi.org/project/urllib3/) Python package along with its [documentation](https://urllib3.readthedocs.io/en/stable/).\n"
   ]
  },
  {
   "cell_type": "markdown",
   "id": "fac01f60",
   "metadata": {},
   "source": [
    "&#9989; **Question 3.1 Use pip install to install the package. Include the code you used to install it here (or, if you already have it installed, the code you would use to install it). (1 point):** "
   ]
  },
  {
   "cell_type": "code",
   "execution_count": 80,
   "id": "cc86c046",
   "metadata": {},
   "outputs": [
    {
     "name": "stdout",
     "output_type": "stream",
     "text": [
      "Requirement already satisfied: urllib3 in /opt/anaconda3/lib/python3.12/site-packages (2.2.3)\n"
     ]
    }
   ],
   "source": [
    "# Your code here.\n",
    "!pip install urllib3\n",
    "import urllib3"
   ]
  },
  {
   "cell_type": "markdown",
   "id": "6890c0b6",
   "metadata": {},
   "source": [
    "&#9989; **Question 3.2 Following the documentation, make a GET request to https://httpbin.org/robots.txt and print out the data. (2 points)** \n"
   ]
  },
  {
   "cell_type": "code",
   "execution_count": 90,
   "id": "8901b66f",
   "metadata": {},
   "outputs": [
    {
     "name": "stdout",
     "output_type": "stream",
     "text": [
      "User-agent: *\n",
      "Disallow: /deny\n",
      "\n"
     ]
    }
   ],
   "source": [
    "# Your code here.\n",
    "http = urllib3.PoolManager()\n",
    "response = http.request('GET', 'https://httpbin.org/robots.txt')\n",
    "data = response.data.decode('utf-8')\n",
    "print(data)"
   ]
  },
  {
   "cell_type": "markdown",
   "id": "caa1c580",
   "metadata": {},
   "source": [
    "&#9989; **Question 3.3 Make a GET request to the dataset used from the previous problem (https://raw.githubusercontent.com/msu-cmse-courses/cmse202-supplemental-data/refs/heads/main/data/iris.data) and print out the received data (2 points):** \n"
   ]
  },
  {
   "cell_type": "code",
   "execution_count": 109,
   "id": "54e8f1aa",
   "metadata": {},
   "outputs": [
    {
     "name": "stdout",
     "output_type": "stream",
     "text": [
      "5.1 3.5 1.4 0.2 Iris-setosa\n",
      "4.9 3.0 1.4 0.2 Iris-setosa\n",
      "4.7 3.2 1.3 0.2 Iris-setosa\n",
      "4.6 3.1 1.5 0.2 \n"
     ]
    }
   ],
   "source": [
    "# Your code here.\n",
    "http = urllib3.PoolManager()\n",
    "url = 'https://raw.githubusercontent.com/msu-cmse-courses/cmse202-supplemental-data/refs/heads/main/data/iris.data'\n",
    "response = http.request('GET', url)\n",
    "data = response.data.decode('utf-8')\n",
    "print(data[:100])"
   ]
  },
  {
   "cell_type": "markdown",
   "id": "d4c7f3d3",
   "metadata": {},
   "source": [
    "&#9989; **Question 3.4 Write Python code to convert the received data into a list of lists. The numeric data (first four columns) should be `float`s, and the last column should be strings. Print out the first ten rows. (3 points):** \n",
    "\n",
    "*Hint 1: If you followed along with the urllib3 documentation, the received data should be of type bytes. You can convert this to a string using the `.decode(\"utf-8\")` method for bytes.*\n",
    "\n",
    "*Hint 2: The `.split` method of a string may be useful.*"
   ]
  },
  {
   "cell_type": "code",
   "execution_count": 102,
   "id": "b6dc5057",
   "metadata": {},
   "outputs": [
    {
     "name": "stdout",
     "output_type": "stream",
     "text": [
      "[5.1, 3.5, 1.4, 0.2, 'Iris-setosa']\n",
      "[4.9, 3.0, 1.4, 0.2, 'Iris-setosa']\n",
      "[4.7, 3.2, 1.3, 0.2, 'Iris-setosa']\n",
      "[4.6, 3.1, 1.5, 0.2, 'Iris-setosa']\n",
      "[5.0, 3.6, 1.4, 0.2, 'Iris-setosa']\n",
      "[5.4, 3.9, 1.7, 0.4, 'Iris-setosa']\n",
      "[4.6, 3.4, 1.4, 0.3, 'Iris-setosa']\n",
      "[5.0, 3.4, 1.5, 0.2, 'Iris-setosa']\n",
      "[4.4, 2.9, 1.4, 0.2, 'Iris-setosa']\n",
      "[4.9, 3.1, 1.5, 0.1, 'Iris-setosa']\n"
     ]
    }
   ],
   "source": [
    "# Your code here.\n",
    "rows = data.strip().split('\\n')\n",
    "iris_list = []\n",
    "for row in rows:\n",
    "    parts = row.split()\n",
    "    iris_list.append([float(parts[0]), float(parts[1]), float(parts[2]), float(parts[3]), parts[4]])\n",
    "\n",
    "for row in iris_list[:10]:\n",
    "    print(row)"
   ]
  },
  {
   "cell_type": "markdown",
   "id": "d381baf7",
   "metadata": {
    "jp-MarkdownHeadingCollapsed": true,
    "tags": []
   },
   "source": [
    "---\n",
    "### &#128721; STOP (1 point)\n",
    "**Pause to commit your changes to your Git repository!**\n",
    "\n",
    "Take a moment to save your notebook, commit  and push the changes to your Git repository.\n",
    "\n",
    "---"
   ]
  },
  {
   "cell_type": "markdown",
   "id": "07d450c5",
   "metadata": {},
   "source": [
    "## Part 4: Writing a simple Python class\n",
    "\n",
    "In this section, we will be developing a Python class for a car."
   ]
  },
  {
   "cell_type": "markdown",
   "id": "8c264b75",
   "metadata": {},
   "source": [
    "&#9989; **Question 4.1 Complete the following class for a simple model of a car, referring to docstrings for instructions. (3 points):** \n"
   ]
  },
  {
   "cell_type": "code",
   "execution_count": 111,
   "id": "0c7c0e8c",
   "metadata": {},
   "outputs": [],
   "source": [
    "class Car:\n",
    "    def __init__(self):\n",
    "        \"\"\"Initializes a car, an object with a fuel level between 0.0 and 1.0 that starts out as 1.0.\"\"\"\n",
    "        # Don't change this method!\n",
    "        self.fuel = 1.0\n",
    "\n",
    "    def get_fuel(self):\n",
    "        \"\"\"Returns the current fuel level (the fuel attribute).\"\"\"\n",
    "        return self.fuel\n",
    "\n",
    "    def drive(self):\n",
    "        \"\"\"Reduces the fuel by half.\"\"\"\n",
    "        # Don't change this method!\n",
    "        self.fuel = self.fuel / 2\n",
    "\n",
    "    def add_fuel(self, fuel_to_add):\n",
    "        \"\"\"Adds fuel to the car.\n",
    "\n",
    "        Args:\n",
    "            fuel_to_add (float): The amount of fuel to add.\n",
    "\n",
    "        Note: The car's fuel level cannot be greater than 1.0. If adding\n",
    "        the fuel_to_add makes the fuel greater than 1.0, the fuel is set to 1.0.\n",
    "        \"\"\"\n",
    "        self.fuel += fuel_to_add\n",
    "        if self.fuel > 1.0:\n",
    "            self.fuel = 1.0"
   ]
  },
  {
   "cell_type": "markdown",
   "id": "cf47f90d",
   "metadata": {},
   "source": [
    "&#9989; **Question 4.2 Create a `Car` object, and do the following: (3 points):** \n",
    "\n",
    "1. Call the `drive` method.\n",
    "2. Call the `add_fuel` method to add 0.3 fuel.\n",
    "3. Call the `drive` method.\n",
    "4. Print out the fuel level."
   ]
  },
  {
   "cell_type": "code",
   "execution_count": 113,
   "id": "3506a66d",
   "metadata": {},
   "outputs": [
    {
     "name": "stdout",
     "output_type": "stream",
     "text": [
      "0.4\n"
     ]
    }
   ],
   "source": [
    "# Your code here.\n",
    "my_car = Car()\n",
    "my_car.drive()\n",
    "my_car.add_fuel(0.3)\n",
    "my_car.drive()\n",
    "print(my_car.get_fuel())"
   ]
  },
  {
   "cell_type": "markdown",
   "id": "c159cf9a",
   "metadata": {
    "tags": []
   },
   "source": [
    "---\n",
    "### &#128721; STOP (1 point)\n",
    "**Pause to commit your changes to your Git repository!**\n",
    "\n",
    "Take a moment to save your notebook, commit  and push the changes to your Git repository.\n",
    "\n",
    "---"
   ]
  },
  {
   "cell_type": "markdown",
   "id": "755cce02-7247-4e83-8c8f-9d3355f1512a",
   "metadata": {},
   "source": [
    "## Part 5: Writing Python code using different programming paradigms\n",
    "\n",
    "In this section, you will show your ability to use the three different programming paradigms we learned in class (linear, functional, and object-oriented) on the following task:\n",
    "\n",
    "Given a list of integers `numbers` and an integer `value`, add the `value` to each number in `numbers`, creating a new list.\n",
    "\n",
    "Example:\n",
    "\n",
    "```python\n",
    "numbers = [1, 2, 3]\n",
    "value = 5\n",
    "# Expected output: [6, 7, 8]\n",
    "```\n",
    "\n",
    "**Your code must work for any list of integers (of any length) and any integer `value`.**"
   ]
  },
  {
   "cell_type": "markdown",
   "id": "565a8282-74af-4ffd-b6cf-0c483cf9588f",
   "metadata": {},
   "source": [
    "&#9989; **Question 5.1 Write code for the above task using linear programming (2 points):** "
   ]
  },
  {
   "cell_type": "code",
   "execution_count": 124,
   "id": "4c321a9f-e981-4657-ad7a-c83eaa777bdb",
   "metadata": {},
   "outputs": [
    {
     "name": "stdout",
     "output_type": "stream",
     "text": [
      "[6, 7, 8]\n"
     ]
    }
   ],
   "source": [
    "numbers = [1, 2, 3]\n",
    "value = 5\n",
    "# Your code here.\n",
    "new_numbers = []\n",
    "for num in numbers:\n",
    "    new_numbers.append(num + value)\n",
    "print(new_numbers)"
   ]
  },
  {
   "cell_type": "markdown",
   "id": "0e6d60bd-78fc-4aad-a488-4dbe6cbf762f",
   "metadata": {},
   "source": [
    "&#9989; **Question 5.2 Write code for the above task using functional programming, in particular by completing the following function (2 points):** "
   ]
  },
  {
   "cell_type": "code",
   "execution_count": 126,
   "id": "647cf0e9-9009-4cda-909c-0aa8107dff4e",
   "metadata": {},
   "outputs": [
    {
     "name": "stdout",
     "output_type": "stream",
     "text": [
      "[6, 7, 8]\n"
     ]
    }
   ],
   "source": [
    "def add_value(numbers, value):\n",
    "    return list(map(lambda x: x + value, numbers))\n",
    "new_numbers = add_value(numbers, value)\n",
    "print(new_numbers)"
   ]
  },
  {
   "cell_type": "markdown",
   "id": "7c98bcff-f743-46c9-937f-e493e92666f5",
   "metadata": {},
   "source": [
    "&#9989; **Question 5.3 Write code for the above task using object-oriented programming, in particular by completing the following class (2 points):** "
   ]
  },
  {
   "cell_type": "code",
   "execution_count": 130,
   "id": "06556500-bcd9-4f3e-8b26-92fd4db2b945",
   "metadata": {},
   "outputs": [
    {
     "name": "stdout",
     "output_type": "stream",
     "text": [
      "[6, 7, 8]\n"
     ]
    }
   ],
   "source": [
    "class ListOfNumbers:\n",
    "    def __init__(self, numbers):\n",
    "        \"\"\"Initializes a list of numbers, storing the input numbers in an attribute called numbers.\n",
    "\n",
    "        Args:\n",
    "            numbers (list[int]): A list of numbers to store as an attribute in the class.\n",
    "        \"\"\"\n",
    "        self.numbers = numbers\n",
    "\n",
    "    def add_value(self, value):\n",
    "        \"\"\"Adds the value to every number in the numbers attribute, modifying numbers and returning nothing.\n",
    "\n",
    "        Args:\n",
    "            value (int): The value to add to each number.\n",
    "        \"\"\"\n",
    "        self.numbers = [x + value for x in self.numbers]\n",
    "\n",
    "numbers_obj = ListOfNumbers([1, 2, 3])\n",
    "numbers_obj.add_value(5)\n",
    "print(numbers_obj.numbers)"
   ]
  },
  {
   "cell_type": "markdown",
   "id": "23fa07a7-a7ae-42bd-8c2b-0378bb299852",
   "metadata": {},
   "source": [
    "&#9989; **Question 5.4 What are the advantages and disadvantages of each programming paradigm? (3 points):** "
   ]
  },
  {
   "cell_type": "markdown",
   "id": "5e8e38cf-1f3c-4711-b90a-227424e39219",
   "metadata": {},
   "source": [
    "linear: Pros: simple, easy to understand and manipulate. Cons: can't handle complex problems\n",
    "\n",
    "functional: Pros: easy to debug, simple, testable, and reusable. Cons: fewer frameworks and tools, can't handle complex problems\n",
    "\n",
    "oop: Pros: easy to maintain, very reusable, can run multiple functions at once. Cons: difficult to debug, "
   ]
  },
  {
   "cell_type": "markdown",
   "id": "14435d84-82d4-4ffc-82b9-3188de6c7103",
   "metadata": {},
   "source": [
    "---\n",
    "### &#128721; STOP (1 point)\n",
    "**Pause to commit your changes to your Git repository!**\n",
    "\n",
    "Take a moment to save your notebook, commit  and push the changes to your Git repository.\n",
    "\n",
    "---"
   ]
  },
  {
   "cell_type": "markdown",
   "id": "868efbc9",
   "metadata": {
    "tags": []
   },
   "source": [
    "## You're done! Congrats on finishing your CMSE 202 Midterm!\n",
    "\n",
    "Make sure all of your changes to your repository are committed and pushed to GitHub. Also upload a copy of this notebook to the dropbox on D2L in case something went wrong with your repository or if you couldn't get the repository to work."
   ]
  }
 ],
 "metadata": {
  "kernelspec": {
   "display_name": "Python [conda env:base] *",
   "language": "python",
   "name": "conda-base-py"
  },
  "language_info": {
   "codemirror_mode": {
    "name": "ipython",
    "version": 3
   },
   "file_extension": ".py",
   "mimetype": "text/x-python",
   "name": "python",
   "nbconvert_exporter": "python",
   "pygments_lexer": "ipython3",
   "version": "3.12.7"
  }
 },
 "nbformat": 4,
 "nbformat_minor": 5
}
