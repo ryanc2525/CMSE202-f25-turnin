{
 "cells": [
  {
   "cell_type": "code",
   "execution_count": 2,
   "id": "40adb0f8-b721-4658-965f-996bf4c65b7c",
   "metadata": {},
   "outputs": [
    {
     "name": "stdout",
     "output_type": "stream",
     "text": [
      "hello world\n"
     ]
    }
   ],
   "source": [
    "print(\"hello world\")"
   ]
  },
  {
   "cell_type": "code",
   "execution_count": 2,
   "id": "a2834f64-86e9-413b-9173-2537687e628b",
   "metadata": {},
   "outputs": [
    {
     "name": "stdout",
     "output_type": "stream",
     "text": [
      "test 1 2 3\n"
     ]
    }
   ],
   "source": [
    "print('test 1 2 3')"
   ]
  },
  {
   "cell_type": "code",
   "execution_count": null,
   "id": "813e4a01-d87d-441c-a1ac-08462789cb9a",
   "metadata": {},
   "outputs": [],
   "source": []
  }
 ],
 "metadata": {
  "kernelspec": {
   "display_name": "Python [conda env:base] *",
   "language": "python",
   "name": "conda-base-py"
  },
  "language_info": {
   "codemirror_mode": {
    "name": "ipython",
    "version": 3
   },
   "file_extension": ".py",
   "mimetype": "text/x-python",
   "name": "python",
   "nbconvert_exporter": "python",
   "pygments_lexer": "ipython3",
   "version": "3.12.7"
  }
 },
 "nbformat": 4,
 "nbformat_minor": 5
}
